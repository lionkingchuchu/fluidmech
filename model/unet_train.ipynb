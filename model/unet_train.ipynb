{
 "cells": [
  {
   "cell_type": "code",
   "execution_count": 1,
   "metadata": {},
   "outputs": [],
   "source": [
    "import torch\n",
    "import torch.nn as nn\n",
    "import torch.optim as optim\n",
    "from torch.utils.data import DataLoader, random_split\n",
    "from torch.utils.data import sampler\n",
    "import torchvision.datasets as dset\n",
    "import torchvision.transforms as T\n",
    "import os\n",
    "import numpy as np\n",
    "import matplotlib.pyplot as plt"
   ]
  },
  {
   "cell_type": "code",
   "execution_count": 2,
   "metadata": {},
   "outputs": [],
   "source": [
    "from unet_parts import *\n",
    "from unet_model3 import UNet\n"
   ]
  },
  {
   "cell_type": "code",
   "execution_count": 3,
   "metadata": {},
   "outputs": [],
   "source": [
    "device =torch.device('cuda')"
   ]
  },
  {
   "cell_type": "code",
   "execution_count": 4,
   "metadata": {},
   "outputs": [
    {
     "data": {
      "text/plain": [
       "device(type='cuda')"
      ]
     },
     "execution_count": 4,
     "metadata": {},
     "output_type": "execute_result"
    }
   ],
   "source": [
    "device"
   ]
  },
  {
   "cell_type": "code",
   "execution_count": 5,
   "metadata": {},
   "outputs": [],
   "source": [
    "stldata = np.load('C:/Users/onebean5/Desktop/fluid/data/stlsave.npy')\n",
    "xdata = np.load('C:/Users/onebean5/Desktop/fluid/data/xsave.npy').astype(int)\n",
    "vdata = np.load('C:/Users/onebean5/Desktop/fluid/data/vsave.npy')\n",
    "ydata = np.load('C:/Users/onebean5/Desktop/fluid/data/ysave.npy')\n",
    "stldata = torch.tensor(stldata)\n",
    "xdata = torch.tensor(xdata)\n",
    "vdata = torch.tensor(vdata)\n",
    "ydata = torch.tensor(ydata)"
   ]
  },
  {
   "cell_type": "code",
   "execution_count": 6,
   "metadata": {},
   "outputs": [
    {
     "name": "stdout",
     "output_type": "stream",
     "text": [
      "torch.Size([12, 1, 300, 300])\n",
      "torch.Size([75, 1, 1, 1])\n",
      "torch.Size([75, 1, 1, 1])\n",
      "torch.Size([75, 1, 300, 300])\n"
     ]
    }
   ],
   "source": [
    "print(stldata.shape)\n",
    "print(xdata.shape)\n",
    "print(vdata.shape)\n",
    "print(ydata.shape)"
   ]
  },
  {
   "cell_type": "code",
   "execution_count": 7,
   "metadata": {},
   "outputs": [],
   "source": [
    "stldata = (stldata-150)/150 #normalize to range [-1, 1]"
   ]
  },
  {
   "cell_type": "code",
   "execution_count": 8,
   "metadata": {},
   "outputs": [
    {
     "name": "stdout",
     "output_type": "stream",
     "text": [
      "tensor(-1.) tensor(1.)\n"
     ]
    }
   ],
   "source": [
    "print(torch.min(stldata), torch.max(stldata))"
   ]
  },
  {
   "cell_type": "code",
   "execution_count": 9,
   "metadata": {},
   "outputs": [],
   "source": [
    "def masked_mse(x,pred,y):\n",
    "  mse=torch.square(y-pred)\n",
    "  mse[x!=torch.max(x)]=0\n",
    "  return mse\n",
    "\n",
    "def train(model,\n",
    "          device,\n",
    "          dataset_n,\n",
    "          epochs: int = 5,\n",
    "          batch_size: int = 1,\n",
    "          learning_rate: float = 1e-5,\n",
    "          val_percent: float = 0.1,\n",
    "          weight_decay: float = 1e-8,\n",
    "          momentum: float = 0.999,\n",
    "          amp: bool = False,\n",
    "          gradient_clipping: float = 1.0,):\n",
    "  global loss_save\n",
    "  \n",
    "  n_val = int(dataset_n * val_percent)\n",
    "  n_train = dataset_n - n_val\n",
    "  train_i, val_i = random_split(torch.arange(dataset_n), [n_train, n_val])\n",
    "  loader_args = dict(batch_size=10, num_workers=os.cpu_count(), pin_memory=True)\n",
    "  train_i_loader = DataLoader(train_i, shuffle=True, **loader_args)\n",
    "  val_i_loader = DataLoader(val_i, shuffle=False, drop_last=True, **loader_args)\n",
    "\n",
    "\n",
    "  optimizer = optim.RMSprop(model.parameters(),\n",
    "                            lr=learning_rate,\n",
    "                            weight_decay=weight_decay,\n",
    "                            momentum=momentum,\n",
    "                            foreach=True)\n",
    "\n",
    "  grad_scaler = torch.cuda.amp.GradScaler(enabled=amp)\n",
    "  model = model.to(device)\n",
    "  for epoch in range(1, epochs + 1):\n",
    "    model.train()\n",
    "    epoch_loss = 0\n",
    "\n",
    "    for x in train_i_loader:\n",
    "      x_data = torch.squeeze(stldata[xdata[x,:,0,0]],1)\n",
    "      v_data = vdata[x]\n",
    "      y_data = ydata[x]\n",
    "\n",
    "      x_data = x_data.to(device)\n",
    "      v_data = v_data.to(device)\n",
    "      y_data = y_data.to(device)\n",
    "      with torch.autocast(device.type if device.type != 'mps' else 'cpu', enabled=amp):\n",
    "        pred = model(x_data,v_data)\n",
    "        loss = torch.mean(masked_mse(x_data, pred, y_data))\n",
    "\n",
    "      optimizer.zero_grad(set_to_none=True)\n",
    "      grad_scaler.scale(loss).backward()\n",
    "      torch.nn.utils.clip_grad_norm_(model.parameters(), gradient_clipping)\n",
    "      grad_scaler.step(optimizer)\n",
    "      grad_scaler.update()\n",
    "\n",
    "\n",
    "      epoch_loss += loss.item()\n",
    "    loss_save.append(epoch_loss)\n",
    "    if epoch %100 == 0:\n",
    "      print(f'epochs: {epoch}, loss: {epoch_loss}')"
   ]
  },
  {
   "cell_type": "code",
   "execution_count": 10,
   "metadata": {},
   "outputs": [],
   "source": [
    "unet = UNet(1,1)\n"
   ]
  },
  {
   "cell_type": "code",
   "execution_count": 12,
   "metadata": {},
   "outputs": [],
   "source": [
    "loss_save = []"
   ]
  },
  {
   "cell_type": "code",
   "execution_count": 13,
   "metadata": {},
   "outputs": [],
   "source": [
    "train(unet,device,75, batch_size=32,epochs = 10, learning_rate = 1e-6)"
   ]
  },
  {
   "cell_type": "code",
   "execution_count": 14,
   "metadata": {},
   "outputs": [
    {
     "name": "stdout",
     "output_type": "stream",
     "text": [
      "[1914.705062866211, 1935.2310028076172, 1938.7019500732422, 1925.0524139404297, 1919.752426147461, 1934.7607727050781, 1884.6413269042969, 1902.2943420410156, 1882.3775329589844, 1858.8748626708984]\n"
     ]
    }
   ],
   "source": [
    "print(loss_save)"
   ]
  },
  {
   "attachments": {},
   "cell_type": "markdown",
   "metadata": {},
   "source": [
    "Test Data & Visualize"
   ]
  },
  {
   "cell_type": "code",
   "execution_count": 219,
   "metadata": {},
   "outputs": [],
   "source": [
    "def test_diff(model, x_data, v_data, y_data):\n",
    "  model = model.to(torch.device('cpu'))\n",
    "  with torch.no_grad():\n",
    "    pred = model(x_data,v_data)\n",
    "    mse = masked_mse(x_data, pred.data.cpu().numpy(),v_data)\n",
    "  return pred, mse\n"
   ]
  },
  {
   "cell_type": "code",
   "execution_count": 220,
   "metadata": {},
   "outputs": [
    {
     "data": {
      "text/plain": [
       "torch.Size([2, 64, 75, 75])"
      ]
     },
     "execution_count": 220,
     "metadata": {},
     "output_type": "execute_result"
    }
   ],
   "source": [
    "dataidx = 20\n",
    "\n",
    "x_test = torch.squeeze(stldata[xdata[dataidx,:,0,0]],1).reshape((1,1,300,300))\n",
    "v_test = vdata[dataidx].reshape((1,1,1,1))\n",
    "y_test = ydata[dataidx].reshape((1,1,300,300))"
   ]
  },
  {
   "cell_type": "code",
   "execution_count": 65,
   "metadata": {},
   "outputs": [],
   "source": [
    "pred, mse = test_diff(unet,x_test,v_test,y_test)"
   ]
  },
  {
   "cell_type": "code",
   "execution_count": 66,
   "metadata": {},
   "outputs": [],
   "source": [
    "f, axes = plt.subplots(1,3)\n",
    "f.set_size_inches((20, 5))\n",
    "plt.subplots_adjust(wspace = 0.3, hspace = 0.3)\n",
    "sctt_1 = axes[0].pcolor(y_test[0][0],cmap='rainbow')\n",
    "sctt_2 = axes[1].pcolor(pred[0][0],cmap='rainbow')\n",
    "sctt_3 = axes[2].pcolor(mse[0][0],cmap='rainbow')"
   ]
  },
  {
   "cell_type": "code",
   "execution_count": null,
   "metadata": {},
   "outputs": [],
   "source": []
  }
 ],
 "metadata": {
  "kernelspec": {
   "display_name": "pytorch",
   "language": "python",
   "name": "python3"
  },
  "language_info": {
   "codemirror_mode": {
    "name": "ipython",
    "version": 3
   },
   "file_extension": ".py",
   "mimetype": "text/x-python",
   "name": "python",
   "nbconvert_exporter": "python",
   "pygments_lexer": "ipython3",
   "version": "3.10.9"
  },
  "orig_nbformat": 4
 },
 "nbformat": 4,
 "nbformat_minor": 2
}
